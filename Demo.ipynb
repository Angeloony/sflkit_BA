{
 "cells": [
  {
   "cell_type": "markdown",
   "id": "c63127fb-6496-4ce5-ab89-5f0183bea676",
   "metadata": {},
   "source": [
    "# Demo for SFLKit"
   ]
  },
  {
   "cell_type": "markdown",
   "id": "0b55e972-81c4-4fc0-9da4-416f1c93723f",
   "metadata": {},
   "source": [
    "## What is SFLKit"
   ]
  },
  {
   "cell_type": "code",
   "execution_count": 1,
   "id": "b48fd713-7f8f-4c00-aba6-a8052aa5ed36",
   "metadata": {},
   "outputs": [
    {
     "name": "stdout",
     "output_type": "stream",
     "text": [
      "Processing /Users/marius/Desktop/work/projects/statistical-debugger\n",
      "  Preparing metadata (setup.py) ... \u001b[?25ldone\n",
      "\u001b[?25hRequirement already satisfied: astor in /Users/marius/.pyenv/versions/3.9.7/lib/python3.9/site-packages (from sflkit==0.0.1) (0.8.1)\n",
      "Requirement already satisfied: numpy in /Users/marius/.pyenv/versions/3.9.7/lib/python3.9/site-packages (from sflkit==0.0.1) (1.21.2)\n",
      "Building wheels for collected packages: sflkit\n",
      "  Building wheel for sflkit (setup.py) ... \u001b[?25ldone\n",
      "\u001b[?25h  Created wheel for sflkit: filename=sflkit-0.0.1-py3-none-any.whl size=32964 sha256=2b1aefebb83a077aac6dda53c53c9914537f95374750eef5e63337948e7431e6\n",
      "  Stored in directory: /Users/marius/Library/Caches/pip/wheels/57/cc/c6/b7063d147bc0b12a7f6ee2dd2ffd25d696d6fbcc41b76dfb97\n",
      "Successfully built sflkit\n",
      "Installing collected packages: sflkit\n",
      "  Attempting uninstall: sflkit\n",
      "    Found existing installation: sflkit 0.0.1\n",
      "    Uninstalling sflkit-0.0.1:\n",
      "      Successfully uninstalled sflkit-0.0.1\n",
      "Successfully installed sflkit-0.0.1\n"
     ]
    }
   ],
   "source": [
    "!pip install ."
   ]
  },
  {
   "cell_type": "markdown",
   "id": "7be07d73-70af-4d38-9bc9-2d2f027987f0",
   "metadata": {},
   "source": [
    "## A faulty Program"
   ]
  },
  {
   "cell_type": "code",
   "execution_count": 29,
   "id": "97ceacc2-3d6f-4d8f-95b4-11d45e805760",
   "metadata": {},
   "outputs": [],
   "source": [
    "def middle(x, y, z):\n",
    "    m = z\n",
    "    if y < z:\n",
    "        if x < y:\n",
    "            m = y\n",
    "        elif x < z:\n",
    "            m = y  # bug\n",
    "    else:\n",
    "        if x > y:\n",
    "            m = y\n",
    "        elif x > z:\n",
    "            m = x\n",
    "    return m"
   ]
  },
  {
   "cell_type": "code",
   "execution_count": 30,
   "id": "cc53f7fd-843b-4b22-961c-bd6661ec125c",
   "metadata": {},
   "outputs": [],
   "source": [
    "import enum"
   ]
  },
  {
   "cell_type": "code",
   "execution_count": 31,
   "id": "374e93f7-e48b-46fd-997d-54dea2b67e12",
   "metadata": {},
   "outputs": [],
   "source": [
    "class TestResult(enum.Enum):\n",
    "    PASS = 'PASS'\n",
    "    FAIL = 'FAIL'"
   ]
  },
  {
   "cell_type": "code",
   "execution_count": 32,
   "id": "eea55fff-0efa-48ba-8112-ed6f5698b645",
   "metadata": {},
   "outputs": [],
   "source": [
    "def test_middle(x, y, z, expected):\n",
    "    try:\n",
    "        if middle(x, y, z) == expected:\n",
    "            return TestResult.PASS\n",
    "        else:\n",
    "            return TestResult.FAIL\n",
    "    except BaseException:\n",
    "        return TestResult.FAIL"
   ]
  },
  {
   "cell_type": "code",
   "execution_count": 33,
   "id": "549d8951-4d04-4d38-baf6-f561e5d72888",
   "metadata": {},
   "outputs": [
    {
     "data": {
      "text/plain": [
       "<TestResult.PASS: 'PASS'>"
      ]
     },
     "execution_count": 33,
     "metadata": {},
     "output_type": "execute_result"
    }
   ],
   "source": [
    "test_middle(3, 2, 1, expected=2)"
   ]
  },
  {
   "cell_type": "code",
   "execution_count": 34,
   "id": "45baa555-b8a8-48d1-bb82-02614bcd7c60",
   "metadata": {},
   "outputs": [
    {
     "data": {
      "text/plain": [
       "<TestResult.PASS: 'PASS'>"
      ]
     },
     "execution_count": 34,
     "metadata": {},
     "output_type": "execute_result"
    }
   ],
   "source": [
    "test_middle(3, 1, 2, expected=2)"
   ]
  },
  {
   "cell_type": "code",
   "execution_count": 35,
   "id": "1b35abe6-1ee9-48cc-a327-2db6c05a1784",
   "metadata": {},
   "outputs": [
    {
     "data": {
      "text/plain": [
       "<TestResult.FAIL: 'FAIL'>"
      ]
     },
     "execution_count": 35,
     "metadata": {},
     "output_type": "execute_result"
    }
   ],
   "source": [
    "test_middle(2, 1, 3, expected=2)"
   ]
  },
  {
   "cell_type": "markdown",
   "id": "ebf75f32-f4c3-4d96-a258-569da3b882e0",
   "metadata": {},
   "source": [
    "## Instrument the Program"
   ]
  },
  {
   "cell_type": "code",
   "execution_count": 36,
   "id": "25076f61-fdf0-4c2c-a5ab-2647b560098a",
   "metadata": {},
   "outputs": [],
   "source": [
    "import inspect"
   ]
  },
  {
   "cell_type": "code",
   "execution_count": 37,
   "id": "011bf2e8-5a64-4e73-82ab-a725aca3a22a",
   "metadata": {},
   "outputs": [
    {
     "name": "stdout",
     "output_type": "stream",
     "text": [
      "def middle(x, y, z):\n",
      "    m = z\n",
      "    if y < z:\n",
      "        if x < y:\n",
      "            m = y\n",
      "        elif x < z:\n",
      "            m = y  # bug\n",
      "    else:\n",
      "        if x > y:\n",
      "            m = y\n",
      "        elif x > z:\n",
      "            m = x\n",
      "    return m\n",
      "\n"
     ]
    }
   ],
   "source": [
    "source = inspect.getsource(middle)\n",
    "print(source)"
   ]
  },
  {
   "cell_type": "code",
   "execution_count": 38,
   "id": "76d8e864-1983-4d28-9403-141d20477d75",
   "metadata": {},
   "outputs": [],
   "source": [
    "middle_py = 'middle.py'\n",
    "tmp_py = 'tmp.py'"
   ]
  },
  {
   "cell_type": "code",
   "execution_count": 39,
   "id": "1cac1b2a-a3f4-45ca-a852-897dc1b754d7",
   "metadata": {},
   "outputs": [],
   "source": [
    "with open(middle_py, 'w') as fp:\n",
    "    fp.write(source)"
   ]
  },
  {
   "cell_type": "code",
   "execution_count": 40,
   "id": "085526f9-fadb-4b73-a5f6-df6e6f82a267",
   "metadata": {},
   "outputs": [],
   "source": [
    "def test_middle_import(x, y, z, expected):\n",
    "    from middle import middle\n",
    "    try:\n",
    "        if middle(x, y, z) == expected:\n",
    "            return TestResult.PASS\n",
    "        else:\n",
    "            return TestResult.FAIL\n",
    "    except BaseException:\n",
    "        return TestResult.FAIL"
   ]
  },
  {
   "cell_type": "code",
   "execution_count": 41,
   "id": "7eb154e9-e4c4-4be6-a8ee-ee1c3f1d1fa9",
   "metadata": {},
   "outputs": [
    {
     "data": {
      "text/plain": [
       "<TestResult.PASS: 'PASS'>"
      ]
     },
     "execution_count": 41,
     "metadata": {},
     "output_type": "execute_result"
    }
   ],
   "source": [
    "test_middle_import(3, 2, 1, expected=2)"
   ]
  },
  {
   "cell_type": "code",
   "execution_count": 42,
   "id": "cedc25b4-16a5-475b-b7a1-cac0eaca4a00",
   "metadata": {},
   "outputs": [
    {
     "data": {
      "text/plain": [
       "<TestResult.PASS: 'PASS'>"
      ]
     },
     "execution_count": 42,
     "metadata": {},
     "output_type": "execute_result"
    }
   ],
   "source": [
    "test_middle_import(3, 1, 2, expected=2)"
   ]
  },
  {
   "cell_type": "code",
   "execution_count": 43,
   "id": "12bc086e-f5f9-4cb7-a509-21f5e076147b",
   "metadata": {},
   "outputs": [
    {
     "data": {
      "text/plain": [
       "<TestResult.FAIL: 'FAIL'>"
      ]
     },
     "execution_count": 43,
     "metadata": {},
     "output_type": "execute_result"
    }
   ],
   "source": [
    "test_middle_import(2, 1, 3, expected=2)"
   ]
  },
  {
   "cell_type": "code",
   "execution_count": 44,
   "id": "e78116a0-5c70-4a1a-a2ab-b279e725ab29",
   "metadata": {},
   "outputs": [],
   "source": [
    "from sflkit.language import Language, meta\n",
    "from sflkit.instrumentation.dir_instrumentation import DirInstrumentation\n",
    "from sflkit.events import EventType"
   ]
  },
  {
   "cell_type": "code",
   "execution_count": 45,
   "id": "969def4c-e99b-4e1c-8d93-ff265cbfb18b",
   "metadata": {},
   "outputs": [],
   "source": [
    "python = Language.PYTHON\n",
    "python.setup()"
   ]
  },
  {
   "cell_type": "code",
   "execution_count": 46,
   "id": "fa3a408a-29c8-41e5-b677-ae0534a53f05",
   "metadata": {},
   "outputs": [],
   "source": [
    "line_visitor = python.meta_visitors[EventType.LINE]"
   ]
  },
  {
   "cell_type": "code",
   "execution_count": 47,
   "id": "d0a87958-fbf9-4ad8-91c5-c4f9526ebcc5",
   "metadata": {},
   "outputs": [],
   "source": [
    "def instrument(visitor):\n",
    "    instrumentation = DirInstrumentation(python.visitor(visitor(python, meta.IDGenerator(), meta.TmpGenerator())))\n",
    "    instrumentation.instrument(src=middle_py, dst=tmp_py, suffixes=python.suffixes)\n",
    "    with open(tmp_py, 'r') as fp:\n",
    "        print(fp.read())"
   ]
  },
  {
   "cell_type": "code",
   "execution_count": 48,
   "id": "c19129e7-cf49-4028-8997-76afeafc9324",
   "metadata": {},
   "outputs": [
    {
     "name": "stdout",
     "output_type": "stream",
     "text": [
      "import sflkit.instrumentation.lib\n",
      "\n",
      "\n",
      "def middle(x, y, z):\n",
      "    sflkit.instrumentation.lib.add_line_event('middle.py', 2, 0)\n",
      "    m = z\n",
      "    sflkit.instrumentation.lib.add_line_event('middle.py', 3, 1)\n",
      "    if y < z:\n",
      "        sflkit.instrumentation.lib.add_line_event('middle.py', 4, 2)\n",
      "        if x < y:\n",
      "            sflkit.instrumentation.lib.add_line_event('middle.py', 5, 3)\n",
      "            m = y\n",
      "        else:\n",
      "            sflkit.instrumentation.lib.add_line_event('middle.py', 6, 4)\n",
      "            if x < z:\n",
      "                sflkit.instrumentation.lib.add_line_event('middle.py', 7, 5)\n",
      "                m = y\n",
      "    else:\n",
      "        sflkit.instrumentation.lib.add_line_event('middle.py', 9, 6)\n",
      "        if x > y:\n",
      "            sflkit.instrumentation.lib.add_line_event('middle.py', 10, 7)\n",
      "            m = y\n",
      "        else:\n",
      "            sflkit.instrumentation.lib.add_line_event('middle.py', 11, 8)\n",
      "            if x > z:\n",
      "                sflkit.instrumentation.lib.add_line_event('middle.py', 12, 9)\n",
      "                m = x\n",
      "    sflkit.instrumentation.lib.add_line_event('middle.py', 13, 10)\n",
      "    return m\n",
      "\n"
     ]
    }
   ],
   "source": [
    "instrument(line_visitor)"
   ]
  },
  {
   "cell_type": "code",
   "execution_count": 49,
   "id": "a5daf879-9158-402f-8b5f-bab67f4736da",
   "metadata": {},
   "outputs": [],
   "source": [
    "def test_tmp(x, y, z, expected): \n",
    "    import tmp\n",
    "    tmp.sflkit.instrumentation.lib.reset()\n",
    "    try:\n",
    "        if tmp.middle(x, y, z) == expected:\n",
    "            return TestResult.PASS\n",
    "        else:\n",
    "            return TestResult.FAIL\n",
    "    except BaseException:\n",
    "        return TestResult.FAIL\n",
    "    finally:\n",
    "        del tmp"
   ]
  },
  {
   "cell_type": "code",
   "execution_count": 50,
   "id": "33914f26-2822-4840-8f72-09d4dd46ca26",
   "metadata": {},
   "outputs": [],
   "source": [
    "import os, shutil\n",
    "from sflkit.model.event_file import EventFile\n",
    "event_files = 'event-files'"
   ]
  },
  {
   "cell_type": "code",
   "execution_count": 51,
   "id": "e084ac5b-b15e-47d0-8cda-4dc14adbb2e9",
   "metadata": {},
   "outputs": [],
   "source": [
    "def run_tests():\n",
    "    if os.path.exists(event_files):\n",
    "        shutil.rmtree(event_files)\n",
    "    os.mkdir(event_files)\n",
    "    test_tmp(3, 2, 1, expected=2)\n",
    "    shutil.move('EVENTS_PATH', os.path.join(event_files, '0'))\n",
    "    test_tmp(3, 1, 2, expected=2)\n",
    "    shutil.move('EVENTS_PATH', os.path.join(event_files, '1'))\n",
    "    test_tmp(2, 1, 3, expected=2)\n",
    "    shutil.move('EVENTS_PATH', os.path.join(event_files, '2'))\n",
    "    passing = [EventFile(os.path.join(event_files, '0'), 0, failing=False), EventFile(os.path.join(event_files, '1'), 1, failing=False)]\n",
    "    failing = [EventFile(os.path.join(event_files, '2'), 2, failing=True)]\n",
    "    return passing, failing"
   ]
  },
  {
   "cell_type": "code",
   "execution_count": 52,
   "id": "cbccbc91-2436-4e50-8b6e-f6893933960e",
   "metadata": {},
   "outputs": [],
   "source": [
    "p, f = run_tests()"
   ]
  },
  {
   "cell_type": "code",
   "execution_count": 53,
   "id": "54f5e0fa-1f56-4f71-ba52-fbd046d6b378",
   "metadata": {},
   "outputs": [
    {
     "data": {
      "text/plain": [
       "[event-files/0:0:PASS, event-files/1:1:PASS]"
      ]
     },
     "execution_count": 53,
     "metadata": {},
     "output_type": "execute_result"
    }
   ],
   "source": [
    "p"
   ]
  },
  {
   "cell_type": "code",
   "execution_count": 54,
   "id": "3e719f77-5ee9-4ab3-b010-4ae0a65dd1b1",
   "metadata": {},
   "outputs": [
    {
     "data": {
      "text/plain": [
       "[event-files/2:2:FAIL]"
      ]
     },
     "execution_count": 54,
     "metadata": {},
     "output_type": "execute_result"
    }
   ],
   "source": [
    "f"
   ]
  },
  {
   "cell_type": "code",
   "execution_count": null,
   "id": "d922df2e-39a9-4aea-a926-b9275bdd9197",
   "metadata": {},
   "outputs": [],
   "source": []
  }
 ],
 "metadata": {
  "kernelspec": {
   "display_name": "Python 3 (ipykernel)",
   "language": "python",
   "name": "python3"
  },
  "language_info": {
   "codemirror_mode": {
    "name": "ipython",
    "version": 3
   },
   "file_extension": ".py",
   "mimetype": "text/x-python",
   "name": "python",
   "nbconvert_exporter": "python",
   "pygments_lexer": "ipython3",
   "version": "3.9.7"
  }
 },
 "nbformat": 4,
 "nbformat_minor": 5
}
