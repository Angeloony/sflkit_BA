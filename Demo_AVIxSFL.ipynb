{
 "cells": [
  {
   "cell_type": "markdown",
   "id": "c63127fb-6496-4ce5-ab89-5f0183bea676",
   "metadata": {
    "tags": []
   },
   "source": [
    "<h1 style=\"font-size: 74px\">SFLKit: <br>A Workbench for Statistical Fault Localization</h1>"
   ]
  },
  {
   "cell_type": "markdown",
   "id": "904f5cad-8d7c-41ea-980f-8aa9abc2787d",
   "metadata": {},
   "source": [
    "<div style=\"float: left; font-size:30px\"><b>Marius Smytzek</b><br>marius.smytzek@cispa.de</div><div style=\"float: left;margin-left: 100px; font-size:30px\"><b>Andreas Zeller</b><br>zeller@cispa.de</div>"
   ]
  },
  {
   "cell_type": "markdown",
   "id": "e5ba28ad-32c3-411d-b30f-6f8309fb8bb8",
   "metadata": {},
   "source": [
    "[start](#Statistical-Fault-Localization)"
   ]
  },
  {
   "cell_type": "code",
   "execution_count": 2,
   "id": "e2346efa-affd-40cb-be6e-12a49f391a88",
   "metadata": {},
   "outputs": [
    {
     "data": {
      "text/html": [
       "\n",
       "        <iframe\n",
       "            width=\"640\"\n",
       "            height=\"360\"\n",
       "            src=\"https://www.youtube-nocookie.com/embed/qcnmi6PgrKg\"\n",
       "            frameborder=\"0\"\n",
       "            allowfullscreen\n",
       "            \n",
       "        ></iframe>\n",
       "        "
      ],
      "text/plain": [
       "<IPython.lib.display.IFrame at 0x7f5b4812ded0>"
      ]
     },
     "execution_count": 2,
     "metadata": {},
     "output_type": "execute_result"
    }
   ],
   "source": [
    "from IPython.display import IFrame\n",
    "src = f\"https://www.youtube-nocookie.com/embed/qcnmi6PgrKg\"\n",
    "IFrame(src, 640, 360)"
   ]
  },
  {
   "cell_type": "markdown",
   "id": "0b55e972-81c4-4fc0-9da4-416f1c93723f",
   "metadata": {},
   "source": [
    "## What is SFLKit"
   ]
  },
  {
   "cell_type": "markdown",
   "id": "fa52fe9e-abd2-4fc1-9c61-8d05f3c52521",
   "metadata": {},
   "source": [
    "SFLKit is a workbench for statistical fault localization. It comes with the fundamental concepts of statistical debugging and spectrum-based fault localization.\n",
    "\n",
    "You can use SFLKit out-of-the-box by integrating its command-line interface `sfl.py` or as a library, as we do in this demonstration. We designed SFLKit to be highly configurable and expandable with novel concepts.\n",
    "\n",
    "To install SFLKit execute"
   ]
  },
  {
   "cell_type": "code",
   "execution_count": 3,
   "id": "b48fd713-7f8f-4c00-aba6-a8052aa5ed36",
   "metadata": {},
   "outputs": [],
   "source": [
    "#%pip install ."
   ]
  },
  {
   "cell_type": "code",
   "execution_count": 4,
   "id": "e8333c71-28ed-44ba-8e4e-52a72f8f96e8",
   "metadata": {},
   "outputs": [],
   "source": [
    "import enum\n",
    "import importlib\n",
    "import inspect\n",
    "import os\n",
    "import shutil\n",
    "\n",
    "from IPython.display import HTML\n",
    "\n",
    "from sflkit.color import ColorCode\n",
    "from sflkit import instrument_config, analyze_config\n",
    "from sflkit.config import Config"
   ]
  },
  {
   "cell_type": "markdown",
   "id": "7be07d73-70af-4d38-9bc9-2d2f027987f0",
   "metadata": {},
   "source": [
    "## A faulty Program"
   ]
  },
  {
   "cell_type": "markdown",
   "id": "742bbc76-5fd4-46a9-ac78-f132118ec072",
   "metadata": {},
   "source": [
    "First, we need a faulty program. We chose an implementation of the `middle(x, y, z)` function that returns the *middle* number of its three arguments. For example, `middle(1, 3, 2)` should return 2 because `1 < 2` and `2 < 3`. We introduced a fault in this implementation of `middle` that occurs in line 7 `m = y`. "
   ]
  },
  {
   "cell_type": "code",
   "execution_count": 5,
   "id": "97ceacc2-3d6f-4d8f-95b4-11d45e805760",
   "metadata": {},
   "outputs": [],
   "source": [
    "def middle(x, y, z):\n",
    "    m = z\n",
    "    if y < z:\n",
    "        if x < y:\n",
    "            m = y\n",
    "        elif x < z:\n",
    "            m = y  # bug\n",
    "    else:\n",
    "        if x > y:\n",
    "            m = y\n",
    "        elif x > z:\n",
    "            m = x\n",
    "    return m"
   ]
  },
  {
   "cell_type": "markdown",
   "id": "3669e4eb-0643-488e-9859-9290dc88eea5",
   "metadata": {},
   "source": [
    "Next, we introduce a class to capture test runs' results efficiently. The `TestResult` is an enum with two possible values, `PASS`and `FAIL`. `PASS` donates a passing test case and `FAIL` a failing one."
   ]
  },
  {
   "cell_type": "code",
   "execution_count": 6,
   "id": "374e93f7-e48b-46fd-997d-54dea2b67e12",
   "metadata": {},
   "outputs": [],
   "source": [
    "class TestResult(enum.Enum):\n",
    "    \n",
    "    def __repr__(self):\n",
    "        return self.value\n",
    "    \n",
    "    PASS = 'PASS'\n",
    "    FAIL = 'FAIL'"
   ]
  },
  {
   "cell_type": "markdown",
   "id": "89df6ffe-a6b3-4a56-bd07-cd74a0fb438e",
   "metadata": {},
   "source": [
    "Now we implement a test function that takes the three arguments of `middle(x, y, z)` and an expected result. This test function compares the return of `middle(x, y, z)` with the desired value and returns `PASS` if they match and `FAIL` otherwise."
   ]
  },
  {
   "cell_type": "code",
   "execution_count": 7,
   "id": "eea55fff-0efa-48ba-8112-ed6f5698b645",
   "metadata": {},
   "outputs": [],
   "source": [
    "def test(function, x, y, z, expected):\n",
    "    try:\n",
    "        if function(x, y, z) == expected:\n",
    "            return TestResult.PASS\n",
    "        else:\n",
    "            return TestResult.FAIL\n",
    "    except BaseException:\n",
    "        return TestResult.FAIL\n",
    "\n",
    "def test_middle(x, y, z, expected):\n",
    "    return test(middle, x, y, z, expected)"
   ]
  },
  {
   "cell_type": "markdown",
   "id": "dfe80e8c-0bac-4f7e-9919-51b2befb7452",
   "metadata": {},
   "source": [
    "Let's check the results for some combinations of the numbers 1, 2, and 3. The expected value is in all cases 2."
   ]
  },
  {
   "cell_type": "code",
   "execution_count": 8,
   "id": "549d8951-4d04-4d38-baf6-f561e5d72888",
   "metadata": {},
   "outputs": [
    {
     "data": {
      "text/plain": [
       "PASS"
      ]
     },
     "execution_count": 8,
     "metadata": {},
     "output_type": "execute_result"
    }
   ],
   "source": [
    "test_middle(3, 2, 1, expected=2)"
   ]
  },
  {
   "cell_type": "code",
   "execution_count": 9,
   "id": "45baa555-b8a8-48d1-bb82-02614bcd7c60",
   "metadata": {},
   "outputs": [
    {
     "data": {
      "text/plain": [
       "PASS"
      ]
     },
     "execution_count": 9,
     "metadata": {},
     "output_type": "execute_result"
    }
   ],
   "source": [
    "test_middle(3, 1, 2, expected=2)"
   ]
  },
  {
   "cell_type": "code",
   "execution_count": 10,
   "id": "1b35abe6-1ee9-48cc-a327-2db6c05a1784",
   "metadata": {},
   "outputs": [
    {
     "data": {
      "text/plain": [
       "FAIL"
      ]
     },
     "execution_count": 10,
     "metadata": {},
     "output_type": "execute_result"
    }
   ],
   "source": [
    "test_middle(2, 1, 3, expected=2)"
   ]
  },
  {
   "cell_type": "markdown",
   "id": "8296a6c8-413e-4d4e-aa6d-ed43c8b51c7d",
   "metadata": {},
   "source": [
    "As you can see, the result of `middle(2, 1, 3)` does not match the expected value 2. Hence, we found a failing test case"
   ]
  },
  {
   "cell_type": "markdown",
   "id": "d0b0fe1c-d040-4fa0-8fd9-d04eea5a6413",
   "metadata": {},
   "source": [
    "## Statistical Fault Localization\n",
    "\n",
    "Statistical fault localization aims at detecting execution features that correlate with failures, such as whether individual lines are part of the execution.\n",
    "\n",
    "With the example from above and the three test cases, we can run a statistical fault localization by marking which test case executes which lines:"
   ]
  },
  {
   "cell_type": "markdown",
   "id": "4f25bc4c-fa08-4889-a182-f3d83c569e77",
   "metadata": {
    "tags": []
   },
   "source": [
    "<table>\n",
    "<tr>\n",
    "<td></td>\n",
    "<td></td>\n",
    "<td>\n",
    "\n",
    "```python\n",
    "middle(3, 2, 1)\n",
    "```\n",
    "            \n",
    "</td>\n",
    "<td>\n",
    "\n",
    "```python\n",
    "middle(3, 1, 2)\n",
    "```\n",
    "            \n",
    "</td>\n",
    "<td>\n",
    "\n",
    "```python\n",
    "middle(2, 1, 3)\n",
    "```\n",
    "            \n",
    "</td>\n",
    "</tr>\n",
    "<tr>\n",
    "<td>\n",
    "\n",
    "```\n",
    "1\n",
    "2\n",
    "3\n",
    "4\n",
    "5\n",
    "6\n",
    "7\n",
    "8\n",
    "9\n",
    "10\n",
    "11\n",
    "12\n",
    "13\n",
    "```\n",
    "            \n",
    "</td>\n",
    "<td>\n",
    "\n",
    "```python\n",
    "def middle(x, y, z):\n",
    "    m = z\n",
    "    if y < z:\n",
    "        if x < y:\n",
    "            m = y\n",
    "        elif x < z:\n",
    "            m = y  # bug\n",
    "    else:\n",
    "        if x > y:\n",
    "            m = y\n",
    "        elif x > z:\n",
    "            m = x\n",
    "    return m\n",
    "```\n",
    "            \n",
    "</td>\n",
    "<td>\n",
    "\n",
    "```\n",
    "\n",
    "       X\n",
    "       X\n",
    "\n",
    "\n",
    "\n",
    "\n",
    "\n",
    "       X\n",
    "       X\n",
    "\n",
    "\n",
    "       X\n",
    "```\n",
    "            \n",
    "</td>\n",
    "<td>\n",
    "\n",
    "```\n",
    "\n",
    "       X\n",
    "       X\n",
    "       X\n",
    "       \n",
    "       X\n",
    "\n",
    "\n",
    "\n",
    "\n",
    "\n",
    "\n",
    "       X\n",
    "```\n",
    "         \n",
    "</td>\n",
    "<td>\n",
    "\n",
    "```\n",
    "\n",
    "       X\n",
    "       X\n",
    "       X\n",
    "       \n",
    "       X\n",
    "       X\n",
    "\n",
    "\n",
    "\n",
    "\n",
    "\n",
    "       X\n",
    "```\n",
    "            \n",
    "</td>\n",
    "</tr>\n",
    "  \n",
    "</table>"
   ]
  },
  {
   "cell_type": "markdown",
   "id": "9b64a07c-09c8-4a16-ad9c-6b6d2004e899",
   "metadata": {},
   "source": [
    "We can see here that line 7 gets only executed by the failing test and not by the passing tests, making it the most likely line to contain the fault, which we already know is true."
   ]
  },
  {
   "cell_type": "markdown",
   "id": "beb7a2ea-1d08-41b2-90b5-bc83c2e22edd",
   "metadata": {},
   "source": [
    "[next](#Configuring-SFLKit)"
   ]
  },
  {
   "cell_type": "markdown",
   "id": "ebf75f32-f4c3-4d96-a258-569da3b882e0",
   "metadata": {},
   "source": [
    "## Instrument the Program"
   ]
  },
  {
   "cell_type": "markdown",
   "id": "29f1e1e5-3b88-4f0c-a72c-b15215c0ad5f",
   "metadata": {},
   "source": [
    "Subsequently, we want to leverage SFLKit to find the location in the code that is most likely to include the fault.\n",
    "\n",
    "Let us first get the source of our function and write it to a file so we have something to perform our instrumentation and analysis.\n",
    "\n",
    "We leverage Python's `inspect` to get the source code."
   ]
  },
  {
   "cell_type": "code",
   "execution_count": 11,
   "id": "d395a695-ba1d-47e9-b21f-ef2d6c95fb37",
   "metadata": {},
   "outputs": [
    {
     "name": "stdout",
     "output_type": "stream",
     "text": [
      "def middle(x, y, z):\n",
      "    m = z\n",
      "    if y < z:\n",
      "        if x < y:\n",
      "            m = y\n",
      "        elif x < z:\n",
      "            m = y  # bug\n",
      "    else:\n",
      "        if x > y:\n",
      "            m = y\n",
      "        elif x > z:\n",
      "            m = x\n",
      "    return m\n",
      "\n"
     ]
    }
   ],
   "source": [
    "source = inspect.getsource(middle)\n",
    "print(source)"
   ]
  },
  {
   "cell_type": "markdown",
   "id": "06b9faaf-25ca-4b33-aad6-b7566da54913",
   "metadata": {},
   "source": [
    "We also define the file we write the source to and the python file we will work on, namely `middle.py` and `tmp.py`, respectively."
   ]
  },
  {
   "cell_type": "code",
   "execution_count": 12,
   "id": "76d8e864-1983-4d28-9403-141d20477d75",
   "metadata": {},
   "outputs": [],
   "source": [
    "middle_py = 'middle.py'\n",
    "tmp_py = 'tmp.py'"
   ]
  },
  {
   "cell_type": "markdown",
   "id": "5c3cfffa-93b4-45a6-bfc6-2906da72d538",
   "metadata": {},
   "source": [
    "We write the source code to `middle.py`."
   ]
  },
  {
   "cell_type": "code",
   "execution_count": 13,
   "id": "1cac1b2a-a3f4-45ca-a852-897dc1b754d7",
   "metadata": {},
   "outputs": [],
   "source": [
    "with open(middle_py, 'w') as fp:\n",
    "    fp.write(source)"
   ]
  },
  {
   "cell_type": "markdown",
   "id": "d417ea19-6938-44b3-999c-06d625c10206",
   "metadata": {},
   "source": [
    "Let's update our test function to import the correct module and run the `middle(x, y, z)` from this module."
   ]
  },
  {
   "cell_type": "code",
   "execution_count": 14,
   "id": "085526f9-fadb-4b73-a5f6-df6e6f82a267",
   "metadata": {},
   "outputs": [],
   "source": [
    "def test_middle_import(x, y, z, expected):\n",
    "    from middle import middle\n",
    "    return test(middle, x, y, z, expected)"
   ]
  },
  {
   "cell_type": "markdown",
   "id": "c88260b4-24b9-4381-a361-a4da931bb1e7",
   "metadata": {},
   "source": [
    "We repeat the tests to check that our setup works with the import."
   ]
  },
  {
   "cell_type": "code",
   "execution_count": 15,
   "id": "7eb154e9-e4c4-4be6-a8ee-ee1c3f1d1fa9",
   "metadata": {},
   "outputs": [
    {
     "data": {
      "text/plain": [
       "(PASS, PASS, FAIL)"
      ]
     },
     "execution_count": 15,
     "metadata": {},
     "output_type": "execute_result"
    }
   ],
   "source": [
    "test_middle_import(3, 2, 1, expected=2), test_middle_import(3, 1, 2, expected=2), test_middle_import(2, 1, 3, expected=2)"
   ]
  },
  {
   "cell_type": "markdown",
   "id": "6c623cfd-eb78-4fa3-afc8-85a82d48002b",
   "metadata": {},
   "source": [
    "We produced the same results for the test cases, so it seems to work."
   ]
  },
  {
   "cell_type": "markdown",
   "id": "12423b92-7543-4017-9891-6bad2a2994e1",
   "metadata": {},
   "source": [
    "### Configuring SFLKit\n",
    "\n",
    "The `Config` class provides comfortable access to `SFLKit` by defining the fundamental concepts we want to investigate.\n",
    "\n",
    "We give some information for the config that we need to define. First, we need the path to the source we want to investigate, which we already have in `middle_py`. Next, we need an out, `tmp_py`. We also need:\n",
    "\n",
    "The language of our subject is `'python'`.\n",
    "Let's start with `'line'` as the predicates we want to investigate.\n",
    "We define `'tarantula'` as our evaluation metric for the predicates, i.e., the similarity coefficient.\n",
    "We also need a list of passing and failing tests used during the analysis."
   ]
  },
  {
   "cell_type": "code",
   "execution_count": 16,
   "id": "e43c061a-807b-4bc3-b707-7e1c89799f99",
   "metadata": {},
   "outputs": [],
   "source": [
    "language='python'\n",
    "predicates='line'\n",
    "metrics='Tarantula'\n",
    "passing='event-files/0,event-files/1'\n",
    "failing='event-files/2'"
   ]
  },
  {
   "cell_type": "markdown",
   "id": "6bc586ae-8d1d-4bb0-987c-cdd608f6ea20",
   "metadata": {},
   "source": [
    "We define a function that gives as a `Config` object, so we do not need to create it manually every time we change something."
   ]
  },
  {
   "cell_type": "code",
   "execution_count": 17,
   "id": "b0cd0637-7b4a-4736-80a3-6211b7e529c9",
   "metadata": {},
   "outputs": [],
   "source": [
    "def get_config():\n",
    "    return Config.create(path=middle_py, working=tmp_py, language=language, predicates=predicates, metrics=metrics, passing=passing, failing=failing)"
   ]
  },
  {
   "cell_type": "markdown",
   "id": "a905e276-c475-4fc4-b23c-936dd5fea818",
   "metadata": {},
   "source": [
    "Now we can define a function that instruments our subject. We leverage `SFLKit`'s `instrument_config()`, which takes a config we create with our defined `get_config()` and instruments the subject. We can also show the content of the instrumented python file with this function."
   ]
  },
  {
   "cell_type": "code",
   "execution_count": 18,
   "id": "d0a87958-fbf9-4ad8-91c5-c4f9526ebcc5",
   "metadata": {},
   "outputs": [],
   "source": [
    "def instrument(out=True):\n",
    "    instrument_config(get_config())\n",
    "    if out:\n",
    "        with open(tmp_py, 'r') as fp:\n",
    "            print(fp.read())"
   ]
  },
  {
   "cell_type": "markdown",
   "id": "65524f0a-7c30-41db-be30-a108261e5592",
   "metadata": {},
   "source": [
    "Now we instrument our `middle.py` subject and check the results."
   ]
  },
  {
   "cell_type": "code",
   "execution_count": 19,
   "id": "c19129e7-cf49-4028-8997-76afeafc9324",
   "metadata": {},
   "outputs": [
    {
     "name": "stdout",
     "output_type": "stream",
     "text": [
      "import sflkit.instrumentation.lib\n",
      "\n",
      "\n",
      "def middle(x, y, z):\n",
      "    sflkit.instrumentation.lib.add_line_event('middle.py', 2, 0)\n",
      "    m = z\n",
      "    sflkit.instrumentation.lib.add_line_event('middle.py', 3, 1)\n",
      "    if y < z:\n",
      "        sflkit.instrumentation.lib.add_line_event('middle.py', 4, 2)\n",
      "        if x < y:\n",
      "            sflkit.instrumentation.lib.add_line_event('middle.py', 5, 3)\n",
      "            m = y\n",
      "        else:\n",
      "            sflkit.instrumentation.lib.add_line_event('middle.py', 6, 4)\n",
      "            if x < z:\n",
      "                sflkit.instrumentation.lib.add_line_event('middle.py', 7, 5)\n",
      "                m = y\n",
      "    else:\n",
      "        sflkit.instrumentation.lib.add_line_event('middle.py', 9, 6)\n",
      "        if x > y:\n",
      "            sflkit.instrumentation.lib.add_line_event('middle.py', 10, 7)\n",
      "            m = y\n",
      "        else:\n",
      "            sflkit.instrumentation.lib.add_line_event('middle.py', 11, 8)\n",
      "            if x > z:\n",
      "                sflkit.instrumentation.lib.add_line_event('middle.py', 12, 9)\n",
      "                m = x\n",
      "    sflkit.instrumentation.lib.add_line_event('middle.py', 13, 10)\n",
      "    return m\n",
      "\n"
     ]
    }
   ],
   "source": [
    "instrument()"
   ]
  },
  {
   "cell_type": "markdown",
   "id": "ba9c03c5-419d-49a0-accb-53b190d200dd",
   "metadata": {},
   "source": [
    "As you can see, the instrumentation added an import at the beginning to a lib that comes with `SFLKit`, cluing the execution of files together. Moreover, the instrumentation added a function call function of the lib in front of each executable line that tracks the executed lines."
   ]
  },
  {
   "cell_type": "markdown",
   "id": "690cf88f-0965-4ee7-9ea3-84e0a536e08d",
   "metadata": {},
   "source": [
    "## Get and Analyze Events"
   ]
  },
  {
   "cell_type": "markdown",
   "id": "e4fe045c-cb86-4c05-90e6-730ab1123601",
   "metadata": {},
   "source": [
    "Now, we want to extract the events from the execution of tests. Therefore, we need to adjust our test execution function again because the shared library for tracking the events does not know when to start and stop. We need to reset this library before entering our `middle.py` and tell the library to dump the events after the function finishes."
   ]
  },
  {
   "cell_type": "code",
   "execution_count": 20,
   "id": "a5daf879-9158-402f-8b5f-bab67f4736da",
   "metadata": {},
   "outputs": [],
   "source": [
    "def test_tmp(x, y, z, expected): \n",
    "    import tmp\n",
    "    importlib.reload(tmp)\n",
    "    tmp.sflkit.instrumentation.lib.reset()\n",
    "    try:\n",
    "        return test(tmp.middle, x, y, z, expected)\n",
    "    finally:\n",
    "        tmp.sflkit.instrumentation.lib.dump_events()\n",
    "        del tmp"
   ]
  },
  {
   "cell_type": "markdown",
   "id": "bb741ed6-bb58-4b7a-9c56-8e58804651d3",
   "metadata": {},
   "source": [
    "We define a path to write the generated event logs."
   ]
  },
  {
   "cell_type": "code",
   "execution_count": 21,
   "id": "823303be-b13f-4405-9186-857625aec1b1",
   "metadata": {},
   "outputs": [],
   "source": [
    "event_files = 'event-files'"
   ]
  },
  {
   "cell_type": "markdown",
   "id": "8f8453ef-c2ba-4b77-800a-0c44b72bfd5a",
   "metadata": {},
   "source": [
    "Then, we need a function to generate the event log from the previous test cases. We change the environment variable `EVENTS_PATH` to the output path of the event log file before running each test."
   ]
  },
  {
   "cell_type": "code",
   "execution_count": 22,
   "id": "e084ac5b-b15e-47d0-8cda-4dc14adbb2e9",
   "metadata": {},
   "outputs": [],
   "source": [
    "def run_tests():\n",
    "    if os.path.exists(event_files):\n",
    "        shutil.rmtree(event_files)\n",
    "    os.mkdir(event_files)\n",
    "    os.environ['EVENTS_PATH'] = os.path.join(event_files, '0')\n",
    "    test_tmp(3, 2, 1, expected=2)\n",
    "    os.environ['EVENTS_PATH'] = os.path.join(event_files, '1')\n",
    "    test_tmp(3, 1, 2, expected=2)\n",
    "    os.environ['EVENTS_PATH'] = os.path.join(event_files, '2')\n",
    "    test_tmp(2, 1, 3, expected=2)"
   ]
  },
  {
   "cell_type": "markdown",
   "id": "bf9f60a3-c565-404d-8d61-7b804fb65907",
   "metadata": {},
   "source": [
    "With this, we can execute the tests and analyze the result with the help of `analyze_config()` from SFLKit."
   ]
  },
  {
   "cell_type": "code",
   "execution_count": 23,
   "id": "d922df2e-39a9-4aea-a926-b9275bdd9197",
   "metadata": {},
   "outputs": [],
   "source": [
    "def analyze():\n",
    "    run_tests()\n",
    "    return analyze_config(get_config())"
   ]
  },
  {
   "cell_type": "markdown",
   "id": "726382fb-4b55-4952-b105-e0afd88dd36f",
   "metadata": {},
   "source": [
    "Let's execute the tests and analyze the event logs for lines and the Tarantula metric."
   ]
  },
  {
   "cell_type": "code",
   "execution_count": 24,
   "id": "f52db0b7-4423-49a2-b79c-3bff82e9f084",
   "metadata": {},
   "outputs": [],
   "source": [
    "results = analyze()"
   ]
  },
  {
   "cell_type": "markdown",
   "id": "09b4a254-9059-4e18-87d2-a8a9c01a26d4",
   "metadata": {},
   "source": [
    "The results look something like this:"
   ]
  },
  {
   "cell_type": "code",
   "execution_count": 25,
   "id": "cd538827-c2b6-45fe-a3bf-1bae6e213223",
   "metadata": {},
   "outputs": [
    {
     "data": {
      "text/plain": [
       "{'LINE': {'Tarantula': [[middle.py:7]:1.0,\n",
       "   [middle.py:4, middle.py:6]:0.6666666666666666,\n",
       "   [middle.py:3, middle.py:13, middle.py:2]:0.5,\n",
       "   [middle.py:9, middle.py:10]:0.0]}}"
      ]
     },
     "execution_count": 25,
     "metadata": {},
     "output_type": "execute_result"
    }
   ],
   "source": [
    "results"
   ]
  },
  {
   "cell_type": "markdown",
   "id": "7ee136ed-b595-448a-b2e6-89e9d1b16d0b",
   "metadata": {},
   "source": [
    "This structure maps analysis objects and metrics to a list of sorted suggestions where the fault occurs."
   ]
  },
  {
   "cell_type": "markdown",
   "id": "29fee667-ff00-426a-ab91-254a89f09bb8",
   "metadata": {},
   "source": [
    "Now, we can put all this together and produce a pretty output that shows us where the fault originates by leveraging `SFLKit`'s `ColorCode` object."
   ]
  },
  {
   "cell_type": "code",
   "execution_count": 26,
   "id": "d2e2b4ed-5c28-45c9-bb12-bd746e7bc966",
   "metadata": {},
   "outputs": [],
   "source": [
    "def sfl():\n",
    "    instrument(out=False)\n",
    "    results = analyze()\n",
    "    code = ColorCode(results[predicates.upper()][metrics])\n",
    "    return HTML(code.code(middle_py, source, color=True, suspiciousness=True))"
   ]
  },
  {
   "cell_type": "code",
   "execution_count": 27,
   "id": "a7a490d9-7622-4e46-968e-aeb0d7b368b0",
   "metadata": {},
   "outputs": [
    {
     "data": {
      "text/html": [
       "<div><pre title=\"Line 1: not executed\">   1      def middle(x, y, z):</pre>\n",
       "<pre style=\"background-color:#ffff99\"\n",
       "                title=\"Line 2:  50%\">   2  50%     m = z</pre>\n",
       "<pre style=\"background-color:#ffff99\"\n",
       "                title=\"Line 3:  50%\">   3  50%     if y &lt; z:</pre>\n",
       "<pre style=\"background-color:#ffdd99\"\n",
       "                title=\"Line 4:  66%\">   4  66%         if x &lt; y:</pre>\n",
       "<pre title=\"Line 5: not executed\">   5                  m = y</pre>\n",
       "<pre style=\"background-color:#ffdd99\"\n",
       "                title=\"Line 6:  66%\">   6  66%         elif x &lt; z:</pre>\n",
       "<pre style=\"background-color:#ff9999\"\n",
       "                title=\"Line 7: 100%\">   7 100%             m = y  # bug</pre>\n",
       "<pre title=\"Line 8: not executed\">   8          else:</pre>\n",
       "<pre style=\"background-color:#b3e6b3\"\n",
       "                title=\"Line 9:   0%\">   9   0%         if x &gt; y:</pre>\n",
       "<pre style=\"background-color:#b3e6b3\"\n",
       "                title=\"Line 10:   0%\">  10   0%             m = y</pre>\n",
       "<pre title=\"Line 11: not executed\">  11              elif x &gt; z:</pre>\n",
       "<pre title=\"Line 12: not executed\">  12                  m = x</pre>\n",
       "<pre style=\"background-color:#ffff99\"\n",
       "                title=\"Line 13:  50%\">  13  50%     return m</pre>\n",
       "<pre title=\"Line 14: not executed\">  14      &nbsp;</pre>\n",
       "</div>"
      ],
      "text/plain": [
       "<IPython.core.display.HTML object>"
      ]
     },
     "execution_count": 27,
     "metadata": {},
     "output_type": "execute_result"
    }
   ],
   "source": [
    "sfl()"
   ]
  },
  {
   "cell_type": "markdown",
   "id": "a35f1a31-eba0-4efc-8c44-545f8ecf95ca",
   "metadata": {},
   "source": [
    "As you can see, the analysis indeed suggests the buggy line 7 as the most suspicious."
   ]
  },
  {
   "cell_type": "markdown",
   "id": "2c9e89ce-815f-4d84-aa6f-f43d41030c96",
   "metadata": {},
   "source": [
    "But what if lines are not enough to show the fault?\n",
    "\n",
    "What if the metric we have chosen for evaluation is insufficient?"
   ]
  },
  {
   "cell_type": "markdown",
   "id": "16036e61",
   "metadata": {},
   "source": [
    "### Extension using Avicenna\n",
    "We seek to utilize SFLKit's instrmentation of program code line events to determine constraints describing a specific line's reachability with Avicenna. \n",
    "\n",
    "1. We must instrument our test program, middle, and use that output.\n",
    "2. We access the event files and check what line was called, oracle determines YES or NO.\n",
    "3. If yes, learn from that event file, make constraint loop with Avicenna\n",
    "4. If no, call other event files to check for line event YES.\n",
    "\n",
    "\n",
    "Instrumentation for line events is coded as follows: (event_type, file_name, line_num, event_id)\n"
   ]
  },
  {
   "cell_type": "markdown",
   "id": "fc45900f",
   "metadata": {},
   "source": [
    "First we need to instrument our event files for a given program or function."
   ]
  },
  {
   "cell_type": "code",
   "execution_count": 29,
   "id": "fd4ebdbf",
   "metadata": {},
   "outputs": [],
   "source": [
    "def run_test_and_instrument(middle_input, event_files_path, iterator):\n",
    "    os.environ['EVENTS_PATH'] = os.path.join(event_files_path, str(iterator))\n",
    "    test_tmp(middle_input[0], middle_input[1], middle_input[2], expected=2) # instrumenting middle"
   ]
  },
  {
   "cell_type": "markdown",
   "id": "acd985c3",
   "metadata": {},
   "source": [
    "The oracle has to be able to determine if a given line is called when a test case is run. This means we need to call sflkit's instrumentation for each test case when determining whether it is valuable and can be used for finding constraints that lead to the desired line."
   ]
  },
  {
   "cell_type": "code",
   "execution_count": 30,
   "id": "5ab8a453",
   "metadata": {},
   "outputs": [
    {
     "name": "stderr",
     "output_type": "stream",
     "text": [
      "IProgress not found. Please update jupyter and ipywidgets. See https://ipywidgets.readthedocs.io/en/stable/user_install.html\n"
     ]
    }
   ],
   "source": [
    "import string\n",
    "import csv\n",
    "\n",
    "from pathlib import Path\n",
    "from avicenna.oracle import OracleResult\n",
    "from avicenna import Avicenna\n",
    "\n",
    "# This oracle has to run sflkit and create event_files, as well as then read through them and ideally delete as well\n",
    "\n",
    "# for now just use bug for line event called, add TRUE/FALSE later\n",
    "def prototype_oracle_line_event(event_file_path, desired_line):\n",
    "    \n",
    "    #is file path valid?\n",
    "    if event_file_path.exists() == False or event_file_path.is_dir() == True:\n",
    "        # add error handling \n",
    "        return OracleResult.UNDEF\n",
    "    \n",
    "    # check if desired_line was passed as int and not as str\n",
    "        # QUESTION should we only accept str to begin with? check for numbers only?\n",
    "    #if desired_line.type() == int:\n",
    "    #   desired_line = str(desired_line)\n",
    "    \n",
    "    event_file = event_file_path.open() \n",
    "    with open(event_file_path, newline='') as event_file:\n",
    "        \n",
    "        # split each line at , to get columns separated\n",
    "        for line in event_file.readlines():\n",
    "            reached_line = line.split(',')\n",
    "            #lines_reached.add(peep[-2])\n",
    "            if reached_line[-2] == desired_line:\n",
    "                return OracleResult.BUG\n",
    "        \n",
    "    return OracleResult.NO_BUG        "
   ]
  },
  {
   "cell_type": "markdown",
   "id": "f1b30d0b",
   "metadata": {},
   "source": [
    "We can now go through our event-files folder and iterate through each file, representing a test case. The relevant test cases will be denoted by an OracleResult.BUG for now. We can use this behavior-triggering input as our input for a run of Avicenna to find the constraints leading to this behavior."
   ]
  },
  {
   "cell_type": "code",
   "execution_count": 31,
   "id": "ac7b5abf",
   "metadata": {},
   "outputs": [
    {
     "name": "stdout",
     "output_type": "stream",
     "text": [
      "event-files/0\n",
      "NO_BUG\n",
      "event-files/2\n",
      "BUG\n",
      "event-files/1\n",
      "NO_BUG\n"
     ]
    }
   ],
   "source": [
    "# initial inputs\n",
    "middle_inputs = [(3,2,1, OracleResult.NO_BUG),\n",
    "                  (3,1,2, OracleResult.NO_BUG),\n",
    "                  (2,1,3, OracleResult.BUG)]\n",
    "\n",
    "path = Path('./event-files/')\n",
    "it = 0 # used for scalability in test case amount\n",
    "\n",
    "# remove event files used in older runs\n",
    "if os.path.exists(path):\n",
    "    shutil.rmtree(path) \n",
    "os.mkdir(path)\n",
    "# for each available test case, run the instrumentation and save it in specified path\n",
    "for test_case in middle_inputs:    \n",
    "    run_test_and_instrument(test_case[0:3], path, it)\n",
    "    it += 1\n",
    "\n",
    "# check with oracle if line 7 was called. in our case its a bug, but it doesnt have to be for future implementations\n",
    "for file in path.iterdir():\n",
    "    print(file)\n",
    "    reached = prototype_oracle_line_event(file, '7')\n",
    "    print(reached)\n",
    "    "
   ]
  },
  {
   "cell_type": "markdown",
   "id": "c45a7f56",
   "metadata": {},
   "source": [
    "The oracle used in this run of Avicenna will be the oracle checking against line-event calls. This requires us to run sflkit using Avicenna's new hypotheses after every run. \n",
    "\n",
    "#### TODO : add instrumentation to oracle\n",
    "#### TODO : run avicenna with sflkit instrumentation running to check middle prototype\n",
    "#### TODO : after middle prototype works: generalize code to make it work for all different kinds of programs and functions (different input amounts etc)\n",
    "#### QUESTION : check edge cases in inputs - discuss w/ martin in regards to code stability\n",
    "#### QUESTION : evaluation? symex algorithms? \n",
    "#### QUESTION : related work? other than avicenna/sflkit"
   ]
  },
  {
   "cell_type": "code",
   "execution_count": 127,
   "id": "6635a037",
   "metadata": {},
   "outputs": [],
   "source": [
    "middle_grammar = {\n",
    "    \"<start>\": [\"<stmt>\"],\n",
    "    \"<stmt>\": [\"<x>, <y>, <z>\"],\n",
    "    \"<x>\": [\"<integer>\"],\n",
    "    \"<y>\": [\"<integer>\"],\n",
    "    \"<z>\": [\"<integer>\"],\n",
    "    \"<integer>\": [\"<digit>\", \"<digit><integer>\"],\n",
    "    \"<digit>\": [str(num) for num in range(1, 10)]\n",
    "}"
   ]
  },
  {
   "cell_type": "code",
   "execution_count": 128,
   "id": "09cb633c",
   "metadata": {},
   "outputs": [],
   "source": [
    "# 321, 312, 213\n",
    "middle_inputs = [(3,2,1, OracleResult.NO_BUG),\n",
    "                  (3,1,2, OracleResult.NO_BUG),\n",
    "                  (2,1,3, OracleResult.BUG)]"
   ]
  },
  {
   "cell_type": "code",
   "execution_count": 129,
   "id": "1fb1d396",
   "metadata": {},
   "outputs": [
    {
     "name": "stdout",
     "output_type": "stream",
     "text": [
      "ANTLR runtime and generated code versions disagree: 4.13.0!=4.11.1\n",
      "ANTLR runtime and generated code versions disagree: 4.13.0!=4.11.1\n",
      "ANTLR runtime and generated code versions disagree: 4.13.0!=4.11.1\n",
      "ANTLR runtime and generated code versions disagree: 4.13.0!=4.11.1\n",
      "ANTLR runtime and generated code versions disagree: 4.13.0!=4.11.1\n",
      "ANTLR runtime and generated code versions disagree: 4.13.0!=4.11.1\n",
      "ANTLR runtime and generated code versions disagree: 4.13.0!=4.11.1\n",
      "ANTLR runtime and generated code versions disagree: 4.13.0!=4.11.1\n",
      "ANTLR runtime and generated code versions disagree: 4.13.0!=4.11.1\n",
      "ANTLR runtime and generated code versions disagree: 4.13.0!=4.11.1\n",
      "ANTLR runtime and generated code versions disagree: 4.13.0!=4.11.1\n",
      "ANTLR runtime and generated code versions disagree: 4.13.0!=4.11.1\n",
      "ANTLR runtime and generated code versions disagree: 4.13.0!=4.11.1\n",
      "ANTLR runtime and generated code versions disagree: 4.13.0!=4.11.1\n",
      "ANTLR runtime and generated code versions disagree: 4.13.0!=4.11.1\n",
      "ANTLR runtime and generated code versions disagree: 4.13.0!=4.11.1\n",
      "ANTLR runtime and generated code versions disagree: 4.13.0!=4.11.1\n",
      "ANTLR runtime and generated code versions disagree: 4.13.0!=4.11.1\n",
      "ANTLR runtime and generated code versions disagree: 4.13.0!=4.11.1\n",
      "ANTLR runtime and generated code versions disagree: 4.13.0!=4.11.1\n",
      "ANTLR runtime and generated code versions disagree: 4.13.0!=4.11.1\n",
      "ANTLR runtime and generated code versions disagree: 4.13.0!=4.11.1\n",
      "ANTLR runtime and generated code versions disagree: 4.13.0!=4.11.1\n",
      "ANTLR runtime and generated code versions disagree: 4.13.0!=4.11.1\n",
      "ANTLR runtime and generated code versions disagree: 4.13.0!=4.11.1\n",
      "ANTLR runtime and generated code versions disagree: 4.13.0!=4.11.1\n",
      "ANTLR runtime and generated code versions disagree: 4.13.0!=4.11.1\n",
      "ANTLR runtime and generated code versions disagree: 4.13.0!=4.11.1\n",
      "ANTLR runtime and generated code versions disagree: 4.13.0!=4.11.1\n",
      "ANTLR runtime and generated code versions disagree: 4.13.0!=4.11.1\n",
      "ANTLR runtime and generated code versions disagree: 4.13.0!=4.11.1\n",
      "ANTLR runtime and generated code versions disagree: 4.13.0!=4.11.1\n"
     ]
    },
    {
     "name": "stdout",
     "output_type": "stream",
     "text": [
      "ANTLR runtime and generated code versions disagree: 4.13.0!=4.11.1\n",
      "ANTLR runtime and generated code versions disagree: 4.13.0!=4.11.1\n",
      "ANTLR runtime and generated code versions disagree: 4.13.0!=4.11.1\n",
      "ANTLR runtime and generated code versions disagree: 4.13.0!=4.11.1\n",
      "ANTLR runtime and generated code versions disagree: 4.13.0!=4.11.1\n",
      "ANTLR runtime and generated code versions disagree: 4.13.0!=4.11.1\n",
      "ANTLR runtime and generated code versions disagree: 4.13.0!=4.11.1\n",
      "ANTLR runtime and generated code versions disagree: 4.13.0!=4.11.1\n",
      "ANTLR runtime and generated code versions disagree: 4.13.0!=4.11.1\n",
      "ANTLR runtime and generated code versions disagree: 4.13.0!=4.11.1\n",
      "ANTLR runtime and generated code versions disagree: 4.13.0!=4.11.1\n",
      "ANTLR runtime and generated code versions disagree: 4.13.0!=4.11.1\n",
      "ANTLR runtime and generated code versions disagree: 4.13.0!=4.11.1\n",
      "ANTLR runtime and generated code versions disagree: 4.13.0!=4.11.1\n",
      "ANTLR runtime and generated code versions disagree: 4.13.0!=4.11.1\n",
      "ANTLR runtime and generated code versions disagree: 4.13.0!=4.11.1\n",
      "ANTLR runtime and generated code versions disagree: 4.13.0!=4.11.1\n",
      "ANTLR runtime and generated code versions disagree: 4.13.0!=4.11.1\n",
      "ANTLR runtime and generated code versions disagree: 4.13.0!=4.11.1\n",
      "ANTLR runtime and generated code versions disagree: 4.13.0!=4.11.1\n",
      "ANTLR runtime and generated code versions disagree: 4.13.0!=4.11.1\n",
      "ANTLR runtime and generated code versions disagree: 4.13.0!=4.11.1\n",
      "ANTLR runtime and generated code versions disagree: 4.13.0!=4.11.1\n",
      "ANTLR runtime and generated code versions disagree: 4.13.0!=4.11.1\n",
      "ANTLR runtime and generated code versions disagree: 4.13.0!=4.11.1\n",
      "ANTLR runtime and generated code versions disagree: 4.13.0!=4.11.1\n",
      "ANTLR runtime and generated code versions disagree: 4.13.0!=4.11.1\n",
      "ANTLR runtime and generated code versions disagree: 4.13.0!=4.11.1\n",
      "ANTLR runtime and generated code versions disagree: 4.13.0!=4.11.1\n",
      "ANTLR runtime and generated code versions disagree: 4.13.0!=4.11.1\n",
      "ANTLR runtime and generated code versions disagree: 4.13.0!=4.11.1\n",
      "ANTLR runtime and generated code versions disagree: 4.13.0!=4.11.1\n",
      "ANTLR runtime and generated code versions disagree: 4.13.0!=4.11.1\n",
      "ANTLR runtime and generated code versions disagree: 4.13.0!=4.11.1\n",
      "ANTLR runtime and generated code versions disagree: 4.13.0!=4.11.1\n",
      "ANTLR runtime and generated code versions disagree: 4.13.0!=4.11.1\n",
      "ANTLR runtime and generated code versions disagree: 4.13.0!=4.11.1\n",
      "ANTLR runtime and generated code versions disagree: 4.13.0!=4.11.1\n",
      "ANTLR runtime and generated code versions disagree: 4.13.0!=4.11.1\n",
      "ANTLR runtime and generated code versions disagree: 4.13.0!=4.11.1\n",
      "ANTLR runtime and generated code versions disagree: 4.13.0!=4.11.1\n",
      "ANTLR runtime and generated code versions disagree: 4.13.0!=4.11.1\n",
      "ANTLR runtime and generated code versions disagree: 4.13.0!=4.11.1\n",
      "ANTLR runtime and generated code versions disagree: 4.13.0!=4.11.1\n",
      "ANTLR runtime and generated code versions disagree: 4.13.0!=4.11.1\n",
      "ANTLR runtime and generated code versions disagree: 4.13.0!=4.11.1\n",
      "ANTLR runtime and generated code versions disagree: 4.13.0!=4.11.1\n",
      "ANTLR runtime and generated code versions disagree: 4.13.0!=4.11.1\n",
      "ANTLR runtime and generated code versions disagree: 4.13.0!=4.11.1\n",
      "ANTLR runtime and generated code versions disagree: 4.13.0!=4.11.1\n",
      "ANTLR runtime and generated code versions disagree: 4.13.0!=4.11.1\n",
      "ANTLR runtime and generated code versions disagree: 4.13.0!=4.11.1\n",
      "ANTLR runtime and generated code versions disagree: 4.13.0!=4.11.1\n",
      "ANTLR runtime and generated code versions disagree: 4.13.0!=4.11.1\n",
      "ANTLR runtime and generated code versions disagree: 4.13.0!=4.11.1\n",
      "ANTLR runtime and generated code versions disagree: 4.13.0!=4.11.1\n",
      "ANTLR runtime and generated code versions disagree: 4.13.0!=4.11.1\n",
      "ANTLR runtime and generated code versions disagree: 4.13.0!=4.11.1\n",
      "ANTLR runtime and generated code versions disagree: 4.13.0!=4.11.1\n",
      "ANTLR runtime and generated code versions disagree: 4.13.0!=4.11.1\n",
      "ANTLR runtime and generated code versions disagree: 4.13.0!=4.11.1\n",
      "ANTLR runtime and generated code versions disagree: 4.13.0!=4.11.1\n",
      "ANTLR runtime and generated code versions disagree: 4.13.0!=4.11.1\n",
      "ANTLR runtime and generated code versions disagree: 4.13.0!=4.11.1\n",
      "ANTLR runtime and generated code versions disagree: 4.13.0!=4.11.1\n",
      "ANTLR runtime and generated code versions disagree: 4.13.0!=4.11.1\n",
      "ANTLR runtime and generated code versions disagree: 4.13.0!=4.11.1\n",
      "ANTLR runtime and generated code versions disagree: 4.13.0!=4.11.1\n",
      "ANTLR runtime and generated code versions disagree: 4.13.0!=4.11.1\n",
      "ANTLR runtime and generated code versions disagree: 4.13.0!=4.11.1\n",
      "ANTLR runtime and generated code versions disagree: 4.13.0!=4.11.1\n",
      "ANTLR runtime and generated code versions disagree: 4.13.0!=4.11.1\n",
      "ANTLR runtime and generated code versions disagree: 4.13.0!=4.11.1\n",
      "ANTLR runtime and generated code versions disagree: 4.13.0!=4.11.1\n",
      "ANTLR runtime and generated code versions disagree: 4.13.0!=4.11.1\n",
      "ANTLR runtime and generated code versions disagree: 4.13.0!=4.11.1\n",
      "ANTLR runtime and generated code versions disagree: 4.13.0!=4.11.1\n",
      "ANTLR runtime and generated code versions disagree: 4.13.0!=4.11.1\n",
      "ANTLR runtime and generated code versions disagree: 4.13.0!=4.11.1\n",
      "ANTLR runtime and generated code versions disagree: 4.13.0!=4.11.1\n",
      "ANTLR runtime and generated code versions disagree: 4.13.0!=4.11.1\n",
      "ANTLR runtime and generated code versions disagree: 4.13.0!=4.11.1\n",
      "ANTLR runtime and generated code versions disagree: 4.13.0!=4.11.1\n",
      "ANTLR runtime and generated code versions disagree: 4.13.0!=4.11.1\n",
      "ANTLR runtime and generated code versions disagree: 4.13.0!=4.11.1\n",
      "ANTLR runtime and generated code versions disagree: 4.13.0!=4.11.1\n",
      "ANTLR runtime and generated code versions disagree: 4.13.0!=4.11.1\n",
      "ANTLR runtime and generated code versions disagree: 4.13.0!=4.11.1\n",
      "ANTLR runtime and generated code versions disagree: 4.13.0!=4.11.1\n",
      "ANTLR runtime and generated code versions disagree: 4.13.0!=4.11.1\n",
      "ANTLR runtime and generated code versions disagree: 4.13.0!=4.11.1\n",
      "ANTLR runtime and generated code versions disagree: 4.13.0!=4.11.1\n",
      "ANTLR runtime and generated code versions disagree: 4.13.0!=4.11.1\n",
      "ANTLR runtime and generated code versions disagree: 4.13.0!=4.11.1\n",
      "ANTLR runtime and generated code versions disagree: 4.13.0!=4.11.1\n",
      "ANTLR runtime and generated code versions disagree: 4.13.0!=4.11.1\n",
      "ANTLR runtime and generated code versions disagree: 4.13.0!=4.11.1\n",
      "ANTLR runtime and generated code versions disagree: 4.13.0!=4.11.1\n",
      "ANTLR runtime and generated code versions disagree: 4.13.0!=4.11.1\n",
      "ANTLR runtime and generated code versions disagree: 4.13.0!=4.11.1\n",
      "ANTLR runtime and generated code versions disagree: 4.13.0!=4.11.1\n",
      "ANTLR runtime and generated code versions disagree: 4.13.0!=4.11.1\n",
      "ANTLR runtime and generated code versions disagree: 4.13.0!=4.11.1\n",
      "ANTLR runtime and generated code versions disagree: 4.13.0!=4.11.1\n"
     ]
    },
    {
     "name": "stderr",
     "output_type": "stream",
     "text": [
      "ERROR:root:Avicenna: Could not parse initial inputs with given grammar!\n"
     ]
    },
    {
     "name": "stdout",
     "output_type": "stream",
     "text": [
      "ANTLR runtime and generated code versions disagree: 4.13.0!=4.11.1\n",
      "ANTLR runtime and generated code versions disagree: 4.13.0!=4.11.1\n",
      "ANTLR runtime and generated code versions disagree: 4.13.0!=4.11.1\n",
      "ANTLR runtime and generated code versions disagree: 4.13.0!=4.11.1\n",
      "ANTLR runtime and generated code versions disagree: 4.13.0!=4.11.1\n",
      "ANTLR runtime and generated code versions disagree: 4.13.0!=4.11.1\n",
      "ANTLR runtime and generated code versions disagree: 4.13.0!=4.11.1\n",
      "ANTLR runtime and generated code versions disagree: 4.13.0!=4.11.1\n",
      "ANTLR runtime and generated code versions disagree: 4.13.0!=4.11.1\n",
      "ANTLR runtime and generated code versions disagree: 4.13.0!=4.11.1\n",
      "ANTLR runtime and generated code versions disagree: 4.13.0!=4.11.1\n",
      "ANTLR runtime and generated code versions disagree: 4.13.0!=4.11.1\n",
      "ANTLR runtime and generated code versions disagree: 4.13.0!=4.11.1\n",
      "ANTLR runtime and generated code versions disagree: 4.13.0!=4.11.1\n",
      "ANTLR runtime and generated code versions disagree: 4.13.0!=4.11.1\n",
      "ANTLR runtime and generated code versions disagree: 4.13.0!=4.11.1\n",
      "ANTLR runtime and generated code versions disagree: 4.13.0!=4.11.1\n",
      "ANTLR runtime and generated code versions disagree: 4.13.0!=4.11.1\n",
      "ANTLR runtime and generated code versions disagree: 4.13.0!=4.11.1\n",
      "ANTLR runtime and generated code versions disagree: 4.13.0!=4.11.1\n",
      "ANTLR runtime and generated code versions disagree: 4.13.0!=4.11.1\n",
      "ANTLR runtime and generated code versions disagree: 4.13.0!=4.11.1\n",
      "ANTLR runtime and generated code versions disagree: 4.13.0!=4.11.1\n",
      "ANTLR runtime and generated code versions disagree: 4.13.0!=4.11.1\n",
      "ANTLR runtime and generated code versions disagree: 4.13.0!=4.11.1\n",
      "ANTLR runtime and generated code versions disagree: 4.13.0!=4.11.1\n",
      "ANTLR runtime and generated code versions disagree: 4.13.0!=4.11.1\n",
      "ANTLR runtime and generated code versions disagree: 4.13.0!=4.11.1\n",
      "ANTLR runtime and generated code versions disagree: 4.13.0!=4.11.1\n",
      "ANTLR runtime and generated code versions disagree: 4.13.0!=4.11.1\n",
      "ANTLR runtime and generated code versions disagree: 4.13.0!=4.11.1\n",
      "ANTLR runtime and generated code versions disagree: 4.13.0!=4.11.1\n",
      "ANTLR runtime and generated code versions disagree: 4.13.0!=4.11.1\n",
      "ANTLR runtime and generated code versions disagree: 4.13.0!=4.11.1\n",
      "ANTLR runtime and generated code versions disagree: 4.13.0!=4.11.1\n",
      "ANTLR runtime and generated code versions disagree: 4.13.0!=4.11.1\n",
      "ANTLR runtime and generated code versions disagree: 4.13.0!=4.11.1\n",
      "ANTLR runtime and generated code versions disagree: 4.13.0!=4.11.1\n",
      "ANTLR runtime and generated code versions disagree: 4.13.0!=4.11.1\n",
      "ANTLR runtime and generated code versions disagree: 4.13.0!=4.11.1\n",
      "ANTLR runtime and generated code versions disagree: 4.13.0!=4.11.1\n",
      "ANTLR runtime and generated code versions disagree: 4.13.0!=4.11.1\n",
      "ANTLR runtime and generated code versions disagree: 4.13.0!=4.11.1\n",
      "ANTLR runtime and generated code versions disagree: 4.13.0!=4.11.1\n",
      "ANTLR runtime and generated code versions disagree: 4.13.0!=4.11.1\n",
      "ANTLR runtime and generated code versions disagree: 4.13.0!=4.11.1\n",
      "ANTLR runtime and generated code versions disagree: 4.13.0!=4.11.1\n",
      "ANTLR runtime and generated code versions disagree: 4.13.0!=4.11.1\n",
      "ANTLR runtime and generated code versions disagree: 4.13.0!=4.11.1\n",
      "ANTLR runtime and generated code versions disagree: 4.13.0!=4.11.1\n",
      "ANTLR runtime and generated code versions disagree: 4.13.0!=4.11.1\n",
      "ANTLR runtime and generated code versions disagree: 4.13.0!=4.11.1\n",
      "ANTLR runtime and generated code versions disagree: 4.13.0!=4.11.1\n",
      "ANTLR runtime and generated code versions disagree: 4.13.0!=4.11.1\n",
      "ANTLR runtime and generated code versions disagree: 4.13.0!=4.11.1\n",
      "ANTLR runtime and generated code versions disagree: 4.13.0!=4.11.1\n",
      "ANTLR runtime and generated code versions disagree: 4.13.0!=4.11.1\n",
      "ANTLR runtime and generated code versions disagree: 4.13.0!=4.11.1\n",
      "ANTLR runtime and generated code versions disagree: 4.13.0!=4.11.1\n",
      "ANTLR runtime and generated code versions disagree: 4.13.0!=4.11.1\n"
     ]
    },
    {
     "ename": "AttributeError",
     "evalue": "'tuple' object has no attribute 'tb_frame'",
     "output_type": "error",
     "traceback": [
      "\u001b[0;31m---------------------------------------------------------------------------\u001b[0m",
      "\u001b[0;31mSyntaxError\u001b[0m                               Traceback (most recent call last)",
      "File \u001b[0;32m~/ba/avicenna/src/avicenna/avicenna.py:123\u001b[0m, in \u001b[0;36mAvicenna._setup\u001b[0;34m(self)\u001b[0m\n\u001b[1;32m    119\u001b[0m \u001b[39mtry\u001b[39;00m:\n\u001b[1;32m    120\u001b[0m     test_inputs\u001b[39m.\u001b[39madd(\n\u001b[1;32m    121\u001b[0m         Input(\n\u001b[1;32m    122\u001b[0m             DerivationTree\u001b[39m.\u001b[39mfrom_parse_tree(\n\u001b[0;32m--> 123\u001b[0m                 \u001b[39mnext\u001b[39;49m(EarleyParser(\u001b[39mself\u001b[39;49m\u001b[39m.\u001b[39;49m_grammar)\u001b[39m.\u001b[39;49mparse(inp))\n\u001b[1;32m    124\u001b[0m             )\n\u001b[1;32m    125\u001b[0m         )\n\u001b[1;32m    126\u001b[0m     )\n\u001b[1;32m    127\u001b[0m \u001b[39mexcept\u001b[39;00m \u001b[39mSyntaxError\u001b[39;00m:\n",
      "File \u001b[0;32m~/ba/venv/lib/python3.10/site-packages/fuzzingbook/Parser.py:1220\u001b[0m, in \u001b[0;36mEarleyParser.parse\u001b[0;34m(self, text)\u001b[0m\n\u001b[1;32m   1219\u001b[0m \u001b[39mif\u001b[39;00m cursor \u001b[39m<\u001b[39m \u001b[39mlen\u001b[39m(text) \u001b[39mor\u001b[39;00m \u001b[39mnot\u001b[39;00m start:\n\u001b[0;32m-> 1220\u001b[0m     \u001b[39mraise\u001b[39;00m \u001b[39mSyntaxError\u001b[39;00m(\u001b[39m\"\u001b[39m\u001b[39mat \u001b[39m\u001b[39m\"\u001b[39m \u001b[39m+\u001b[39m \u001b[39mrepr\u001b[39m(text[cursor:]))\n\u001b[1;32m   1222\u001b[0m forest \u001b[39m=\u001b[39m \u001b[39mself\u001b[39m\u001b[39m.\u001b[39mparse_forest(\u001b[39mself\u001b[39m\u001b[39m.\u001b[39mtable, start)\n",
      "\u001b[0;31mSyntaxError\u001b[0m: at (3, 2, 1, <OracleResult.NO_BUG: 'NO_BUG'>)",
      "\nDuring handling of the above exception, another exception occurred:\n",
      "\u001b[0;31mSystemExit\u001b[0m                                Traceback (most recent call last)",
      "    \u001b[0;31m[... skipping hidden 1 frame]\u001b[0m\n",
      "Cell \u001b[0;32mIn[129], line 7\u001b[0m\n\u001b[1;32m      1\u001b[0m avicenna \u001b[39m=\u001b[39m Avicenna(\n\u001b[1;32m      2\u001b[0m     grammar\u001b[39m=\u001b[39mmiddle_grammar,\n\u001b[1;32m      3\u001b[0m     initial_inputs\u001b[39m=\u001b[39mmiddle_inputs,\n\u001b[1;32m      4\u001b[0m     oracle\u001b[39m=\u001b[39mprototype_oracle_line_event\n\u001b[1;32m      5\u001b[0m )\n\u001b[0;32m----> 7\u001b[0m avicenna\u001b[39m.\u001b[39;49mexecute()\n",
      "File \u001b[0;32m~/ba/avicenna/src/avicenna/avicenna.py:154\u001b[0m, in \u001b[0;36mAvicenna.execute\u001b[0;34m(self)\u001b[0m\n\u001b[1;32m    153\u001b[0m \u001b[39mself\u001b[39m\u001b[39m.\u001b[39m_start_time \u001b[39m=\u001b[39m perf_counter()\n\u001b[0;32m--> 154\u001b[0m new_inputs: Set[Input] \u001b[39m=\u001b[39m \u001b[39mself\u001b[39;49m\u001b[39m.\u001b[39;49m_setup()\n\u001b[1;32m    155\u001b[0m \u001b[39mwhile\u001b[39;00m \u001b[39mself\u001b[39m\u001b[39m.\u001b[39m_do_more_iterations():\n",
      "File \u001b[0;32m~/ba/avicenna/src/avicenna/avicenna.py:131\u001b[0m, in \u001b[0;36mAvicenna._setup\u001b[0;34m(self)\u001b[0m\n\u001b[1;32m    128\u001b[0m         logging\u001b[39m.\u001b[39merror(\n\u001b[1;32m    129\u001b[0m             \u001b[39m\"\u001b[39m\u001b[39mAvicenna: Could not parse initial inputs with given grammar!\u001b[39m\u001b[39m\"\u001b[39m\n\u001b[1;32m    130\u001b[0m         )\n\u001b[0;32m--> 131\u001b[0m         sys\u001b[39m.\u001b[39;49mexit(\u001b[39m-\u001b[39;49m\u001b[39m1\u001b[39;49m)\n\u001b[1;32m    133\u001b[0m \u001b[39mfor\u001b[39;00m inp \u001b[39min\u001b[39;00m test_inputs:\n",
      "\u001b[0;31mSystemExit\u001b[0m: -1",
      "\nDuring handling of the above exception, another exception occurred:\n",
      "\u001b[0;31mAttributeError\u001b[0m                            Traceback (most recent call last)",
      "    \u001b[0;31m[... skipping hidden 1 frame]\u001b[0m\n",
      "File \u001b[0;32m~/ba/venv/lib/python3.10/site-packages/IPython/core/interactiveshell.py:2095\u001b[0m, in \u001b[0;36mInteractiveShell.showtraceback\u001b[0;34m(self, exc_tuple, filename, tb_offset, exception_only, running_compiled_code)\u001b[0m\n\u001b[1;32m   2092\u001b[0m \u001b[39mif\u001b[39;00m exception_only:\n\u001b[1;32m   2093\u001b[0m     stb \u001b[39m=\u001b[39m [\u001b[39m'\u001b[39m\u001b[39mAn exception has occurred, use \u001b[39m\u001b[39m%\u001b[39m\u001b[39mtb to see \u001b[39m\u001b[39m'\u001b[39m\n\u001b[1;32m   2094\u001b[0m            \u001b[39m'\u001b[39m\u001b[39mthe full traceback.\u001b[39m\u001b[39m\\n\u001b[39;00m\u001b[39m'\u001b[39m]\n\u001b[0;32m-> 2095\u001b[0m     stb\u001b[39m.\u001b[39mextend(\u001b[39mself\u001b[39;49m\u001b[39m.\u001b[39;49mInteractiveTB\u001b[39m.\u001b[39;49mget_exception_only(etype,\n\u001b[1;32m   2096\u001b[0m                                                      value))\n\u001b[1;32m   2097\u001b[0m \u001b[39melse\u001b[39;00m:\n\u001b[1;32m   2098\u001b[0m     \u001b[39mtry\u001b[39;00m:\n\u001b[1;32m   2099\u001b[0m         \u001b[39m# Exception classes can customise their traceback - we\u001b[39;00m\n\u001b[1;32m   2100\u001b[0m         \u001b[39m# use this in IPython.parallel for exceptions occurring\u001b[39;00m\n\u001b[1;32m   2101\u001b[0m         \u001b[39m# in the engines. This should return a list of strings.\u001b[39;00m\n",
      "File \u001b[0;32m~/ba/venv/lib/python3.10/site-packages/IPython/core/ultratb.py:710\u001b[0m, in \u001b[0;36mListTB.get_exception_only\u001b[0;34m(self, etype, value)\u001b[0m\n\u001b[1;32m    702\u001b[0m \u001b[39mdef\u001b[39;00m \u001b[39mget_exception_only\u001b[39m(\u001b[39mself\u001b[39m, etype, value):\n\u001b[1;32m    703\u001b[0m \u001b[39m    \u001b[39m\u001b[39m\"\"\"Only print the exception type and message, without a traceback.\u001b[39;00m\n\u001b[1;32m    704\u001b[0m \n\u001b[1;32m    705\u001b[0m \u001b[39m    Parameters\u001b[39;00m\n\u001b[0;32m   (...)\u001b[0m\n\u001b[1;32m    708\u001b[0m \u001b[39m    value : exception value\u001b[39;00m\n\u001b[1;32m    709\u001b[0m \u001b[39m    \"\"\"\u001b[39;00m\n\u001b[0;32m--> 710\u001b[0m     \u001b[39mreturn\u001b[39;00m ListTB\u001b[39m.\u001b[39;49mstructured_traceback(\u001b[39mself\u001b[39;49m, etype, value)\n",
      "File \u001b[0;32m~/ba/venv/lib/python3.10/site-packages/IPython/core/ultratb.py:568\u001b[0m, in \u001b[0;36mListTB.structured_traceback\u001b[0;34m(self, etype, evalue, etb, tb_offset, context)\u001b[0m\n\u001b[1;32m    565\u001b[0m     chained_exc_ids\u001b[39m.\u001b[39madd(\u001b[39mid\u001b[39m(exception[\u001b[39m1\u001b[39m]))\n\u001b[1;32m    566\u001b[0m     chained_exceptions_tb_offset \u001b[39m=\u001b[39m \u001b[39m0\u001b[39m\n\u001b[1;32m    567\u001b[0m     out_list \u001b[39m=\u001b[39m (\n\u001b[0;32m--> 568\u001b[0m         \u001b[39mself\u001b[39;49m\u001b[39m.\u001b[39;49mstructured_traceback(\n\u001b[1;32m    569\u001b[0m             etype,\n\u001b[1;32m    570\u001b[0m             evalue,\n\u001b[1;32m    571\u001b[0m             (etb, chained_exc_ids),  \u001b[39m# type: ignore\u001b[39;49;00m\n\u001b[1;32m    572\u001b[0m             chained_exceptions_tb_offset,\n\u001b[1;32m    573\u001b[0m             context,\n\u001b[1;32m    574\u001b[0m         )\n\u001b[1;32m    575\u001b[0m         \u001b[39m+\u001b[39m chained_exception_message\n\u001b[1;32m    576\u001b[0m         \u001b[39m+\u001b[39m out_list)\n\u001b[1;32m    578\u001b[0m \u001b[39mreturn\u001b[39;00m out_list\n",
      "File \u001b[0;32m~/ba/venv/lib/python3.10/site-packages/IPython/core/ultratb.py:1428\u001b[0m, in \u001b[0;36mAutoFormattedTB.structured_traceback\u001b[0;34m(self, etype, evalue, etb, tb_offset, number_of_lines_of_context)\u001b[0m\n\u001b[1;32m   1426\u001b[0m \u001b[39melse\u001b[39;00m:\n\u001b[1;32m   1427\u001b[0m     \u001b[39mself\u001b[39m\u001b[39m.\u001b[39mtb \u001b[39m=\u001b[39m etb\n\u001b[0;32m-> 1428\u001b[0m \u001b[39mreturn\u001b[39;00m FormattedTB\u001b[39m.\u001b[39;49mstructured_traceback(\n\u001b[1;32m   1429\u001b[0m     \u001b[39mself\u001b[39;49m, etype, evalue, etb, tb_offset, number_of_lines_of_context\n\u001b[1;32m   1430\u001b[0m )\n",
      "File \u001b[0;32m~/ba/venv/lib/python3.10/site-packages/IPython/core/ultratb.py:1319\u001b[0m, in \u001b[0;36mFormattedTB.structured_traceback\u001b[0;34m(self, etype, value, tb, tb_offset, number_of_lines_of_context)\u001b[0m\n\u001b[1;32m   1316\u001b[0m mode \u001b[39m=\u001b[39m \u001b[39mself\u001b[39m\u001b[39m.\u001b[39mmode\n\u001b[1;32m   1317\u001b[0m \u001b[39mif\u001b[39;00m mode \u001b[39min\u001b[39;00m \u001b[39mself\u001b[39m\u001b[39m.\u001b[39mverbose_modes:\n\u001b[1;32m   1318\u001b[0m     \u001b[39m# Verbose modes need a full traceback\u001b[39;00m\n\u001b[0;32m-> 1319\u001b[0m     \u001b[39mreturn\u001b[39;00m VerboseTB\u001b[39m.\u001b[39;49mstructured_traceback(\n\u001b[1;32m   1320\u001b[0m         \u001b[39mself\u001b[39;49m, etype, value, tb, tb_offset, number_of_lines_of_context\n\u001b[1;32m   1321\u001b[0m     )\n\u001b[1;32m   1322\u001b[0m \u001b[39melif\u001b[39;00m mode \u001b[39m==\u001b[39m \u001b[39m'\u001b[39m\u001b[39mMinimal\u001b[39m\u001b[39m'\u001b[39m:\n\u001b[1;32m   1323\u001b[0m     \u001b[39mreturn\u001b[39;00m ListTB\u001b[39m.\u001b[39mget_exception_only(\u001b[39mself\u001b[39m, etype, value)\n",
      "File \u001b[0;32m~/ba/venv/lib/python3.10/site-packages/IPython/core/ultratb.py:1172\u001b[0m, in \u001b[0;36mVerboseTB.structured_traceback\u001b[0;34m(self, etype, evalue, etb, tb_offset, number_of_lines_of_context)\u001b[0m\n\u001b[1;32m   1163\u001b[0m \u001b[39mdef\u001b[39;00m \u001b[39mstructured_traceback\u001b[39m(\n\u001b[1;32m   1164\u001b[0m     \u001b[39mself\u001b[39m,\n\u001b[1;32m   1165\u001b[0m     etype: \u001b[39mtype\u001b[39m,\n\u001b[0;32m   (...)\u001b[0m\n\u001b[1;32m   1169\u001b[0m     number_of_lines_of_context: \u001b[39mint\u001b[39m \u001b[39m=\u001b[39m \u001b[39m5\u001b[39m,\n\u001b[1;32m   1170\u001b[0m ):\n\u001b[1;32m   1171\u001b[0m \u001b[39m    \u001b[39m\u001b[39m\"\"\"Return a nice text document describing the traceback.\"\"\"\u001b[39;00m\n\u001b[0;32m-> 1172\u001b[0m     formatted_exception \u001b[39m=\u001b[39m \u001b[39mself\u001b[39;49m\u001b[39m.\u001b[39;49mformat_exception_as_a_whole(etype, evalue, etb, number_of_lines_of_context,\n\u001b[1;32m   1173\u001b[0m                                                            tb_offset)\n\u001b[1;32m   1175\u001b[0m     colors \u001b[39m=\u001b[39m \u001b[39mself\u001b[39m\u001b[39m.\u001b[39mColors  \u001b[39m# just a shorthand + quicker name lookup\u001b[39;00m\n\u001b[1;32m   1176\u001b[0m     colorsnormal \u001b[39m=\u001b[39m colors\u001b[39m.\u001b[39mNormal  \u001b[39m# used a lot\u001b[39;00m\n",
      "File \u001b[0;32m~/ba/venv/lib/python3.10/site-packages/IPython/core/ultratb.py:1062\u001b[0m, in \u001b[0;36mVerboseTB.format_exception_as_a_whole\u001b[0;34m(self, etype, evalue, etb, number_of_lines_of_context, tb_offset)\u001b[0m\n\u001b[1;32m   1059\u001b[0m \u001b[39massert\u001b[39;00m \u001b[39misinstance\u001b[39m(tb_offset, \u001b[39mint\u001b[39m)\n\u001b[1;32m   1060\u001b[0m head \u001b[39m=\u001b[39m \u001b[39mself\u001b[39m\u001b[39m.\u001b[39mprepare_header(\u001b[39mstr\u001b[39m(etype), \u001b[39mself\u001b[39m\u001b[39m.\u001b[39mlong_header)\n\u001b[1;32m   1061\u001b[0m records \u001b[39m=\u001b[39m (\n\u001b[0;32m-> 1062\u001b[0m     \u001b[39mself\u001b[39;49m\u001b[39m.\u001b[39;49mget_records(etb, number_of_lines_of_context, tb_offset) \u001b[39mif\u001b[39;00m etb \u001b[39melse\u001b[39;00m []\n\u001b[1;32m   1063\u001b[0m )\n\u001b[1;32m   1065\u001b[0m frames \u001b[39m=\u001b[39m []\n\u001b[1;32m   1066\u001b[0m skipped \u001b[39m=\u001b[39m \u001b[39m0\u001b[39m\n",
      "File \u001b[0;32m~/ba/venv/lib/python3.10/site-packages/IPython/core/ultratb.py:1130\u001b[0m, in \u001b[0;36mVerboseTB.get_records\u001b[0;34m(self, etb, number_of_lines_of_context, tb_offset)\u001b[0m\n\u001b[1;32m   1128\u001b[0m \u001b[39mwhile\u001b[39;00m cf \u001b[39mis\u001b[39;00m \u001b[39mnot\u001b[39;00m \u001b[39mNone\u001b[39;00m:\n\u001b[1;32m   1129\u001b[0m     \u001b[39mtry\u001b[39;00m:\n\u001b[0;32m-> 1130\u001b[0m         mod \u001b[39m=\u001b[39m inspect\u001b[39m.\u001b[39mgetmodule(cf\u001b[39m.\u001b[39;49mtb_frame)\n\u001b[1;32m   1131\u001b[0m         \u001b[39mif\u001b[39;00m mod \u001b[39mis\u001b[39;00m \u001b[39mnot\u001b[39;00m \u001b[39mNone\u001b[39;00m:\n\u001b[1;32m   1132\u001b[0m             mod_name \u001b[39m=\u001b[39m mod\u001b[39m.\u001b[39m\u001b[39m__name__\u001b[39m\n",
      "\u001b[0;31mAttributeError\u001b[0m: 'tuple' object has no attribute 'tb_frame'"
     ]
    }
   ],
   "source": [
    "avicenna = Avicenna(\n",
    "    grammar=middle_grammar,\n",
    "    initial_inputs=middle_inputs,\n",
    "    oracle=prototype_oracle_line_event\n",
    ")\n",
    "\n",
    "avicenna.execute()"
   ]
  },
  {
   "cell_type": "markdown",
   "id": "21426bec-6997-490d-8bd8-f836ea28f4f1",
   "metadata": {},
   "source": [
    "## Change the Analysis Object"
   ]
  },
  {
   "cell_type": "markdown",
   "id": "1bae9ae4-abf8-4c34-8175-cedc30e66401",
   "metadata": {},
   "source": [
    "Say you want to investigate different code elements, for instance, def-use pairs. We can do so by simply adjusting the `predicates` of the `Config` object. Keep in mind that `get_config()` automatically updates the `Config` object."
   ]
  },
  {
   "cell_type": "code",
   "execution_count": 27,
   "id": "bf3f66c0-1131-4017-bbd2-a4d68eec4c22",
   "metadata": {},
   "outputs": [
    {
     "data": {
      "text/html": [
       "<div><pre style=\"background-color:#ff9999\"\n",
       "                title=\"Line 1: 100%\">   1 100% def middle(x, y, z):</pre>\n",
       "<pre style=\"background-color:#ffdd99\"\n",
       "                title=\"Line 2:  66%\">   2  66%     m = z</pre>\n",
       "<pre style=\"background-color:#ffff99\"\n",
       "                title=\"Line 3:  50%\">   3  50%     if y &lt; z:</pre>\n",
       "<pre style=\"background-color:#ffdd99\"\n",
       "                title=\"Line 4:  66%\">   4  66%         if x &lt; y:</pre>\n",
       "<pre title=\"Line 5: not executed\">   5                  m = y</pre>\n",
       "<pre style=\"background-color:#ffdd99\"\n",
       "                title=\"Line 6:  66%\">   6  66%         elif x &lt; z:</pre>\n",
       "<pre style=\"background-color:#ff9999\"\n",
       "                title=\"Line 7: 100%\">   7 100%             m = y  # bug</pre>\n",
       "<pre title=\"Line 8: not executed\">   8          else:</pre>\n",
       "<pre style=\"background-color:#b3e6b3\"\n",
       "                title=\"Line 9:   0%\">   9   0%         if x &gt; y:</pre>\n",
       "<pre style=\"background-color:#b3e6b3\"\n",
       "                title=\"Line 10:   0%\">  10   0%             m = y</pre>\n",
       "<pre title=\"Line 11: not executed\">  11              elif x &gt; z:</pre>\n",
       "<pre title=\"Line 12: not executed\">  12                  m = x</pre>\n",
       "<pre style=\"background-color:#ff9999\"\n",
       "                title=\"Line 13: 100%\">  13 100%     return m</pre>\n",
       "<pre title=\"Line 14: not executed\">  14      &nbsp;</pre>\n",
       "</div>"
      ],
      "text/plain": [
       "<IPython.core.display.HTML object>"
      ]
     },
     "execution_count": 27,
     "metadata": {},
     "output_type": "execute_result"
    }
   ],
   "source": [
    "predicates='def_use'\n",
    "sfl()"
   ]
  },
  {
   "cell_type": "markdown",
   "id": "40ec3073-553c-4556-8f1f-a6e217323981",
   "metadata": {},
   "source": [
    "Now we have an analysis for def-use pairs. The bug occurs when `y` gets defined in line 1, used in line 7, and `m` gets defined in line 7 and used in line 13. So we found the data flow leading to the fault."
   ]
  },
  {
   "cell_type": "markdown",
   "id": "cbc111ff-ea08-46d5-ad10-4ea87253a9ef",
   "metadata": {},
   "source": [
    "## Change the Metric"
   ]
  },
  {
   "cell_type": "markdown",
   "id": "727a99ec-cd07-4add-8e6e-6740910bec22",
   "metadata": {},
   "source": [
    "We can apply the same to the metric, for instance, if we want to investigate the Jaccard similarity coefficient."
   ]
  },
  {
   "cell_type": "code",
   "execution_count": 28,
   "id": "416d8d9f-2636-4e79-8dd4-83d5c3a3e68f",
   "metadata": {},
   "outputs": [
    {
     "data": {
      "text/html": [
       "<div><pre style=\"background-color:#ff9999\"\n",
       "                title=\"Line 1: 100%\">   1 100% def middle(x, y, z):</pre>\n",
       "<pre style=\"background-color:#ffff99\"\n",
       "                title=\"Line 2:  50%\">   2  50%     m = z</pre>\n",
       "<pre style=\"background-color:#e6f7a2\"\n",
       "                title=\"Line 3:  33%\">   3  33%     if y &lt; z:</pre>\n",
       "<pre style=\"background-color:#ffff99\"\n",
       "                title=\"Line 4:  50%\">   4  50%         if x &lt; y:</pre>\n",
       "<pre title=\"Line 5: not executed\">   5                  m = y</pre>\n",
       "<pre style=\"background-color:#ffff99\"\n",
       "                title=\"Line 6:  50%\">   6  50%         elif x &lt; z:</pre>\n",
       "<pre style=\"background-color:#ff9999\"\n",
       "                title=\"Line 7: 100%\">   7 100%             m = y  # bug</pre>\n",
       "<pre title=\"Line 8: not executed\">   8          else:</pre>\n",
       "<pre style=\"background-color:#b3e6b3\"\n",
       "                title=\"Line 9:   0%\">   9   0%         if x &gt; y:</pre>\n",
       "<pre style=\"background-color:#b3e6b3\"\n",
       "                title=\"Line 10:   0%\">  10   0%             m = y</pre>\n",
       "<pre title=\"Line 11: not executed\">  11              elif x &gt; z:</pre>\n",
       "<pre title=\"Line 12: not executed\">  12                  m = x</pre>\n",
       "<pre style=\"background-color:#ff9999\"\n",
       "                title=\"Line 13: 100%\">  13 100%     return m</pre>\n",
       "<pre title=\"Line 14: not executed\">  14      &nbsp;</pre>\n",
       "</div>"
      ],
      "text/plain": [
       "<IPython.core.display.HTML object>"
      ]
     },
     "execution_count": 28,
     "metadata": {},
     "output_type": "execute_result"
    }
   ],
   "source": [
    "metrics='Jaccard'\n",
    "sfl()"
   ]
  },
  {
   "cell_type": "markdown",
   "id": "2b5a5c6d-2396-4255-a2cb-a08460de602b",
   "metadata": {},
   "source": [
    "We have an adjusted def-use pair analysis to the Jaccard coefficient with this result. You can compare it with the previous one and see the differences in the suspiciousness."
   ]
  },
  {
   "cell_type": "markdown",
   "id": "ea11fde8-0ce5-4f43-8e0c-89cf94623523",
   "metadata": {},
   "source": [
    "## From Spectra to Predicates"
   ]
  },
  {
   "cell_type": "markdown",
   "id": "e8681643-27c6-4e7b-b7bf-fe52d6499c2b",
   "metadata": {},
   "source": [
    "Up to this point, we have investigated spectra, but we could also examine predicates that need to hold, for instance, the conditions of branches."
   ]
  },
  {
   "cell_type": "code",
   "execution_count": 29,
   "id": "0c9dcfc0-98db-4151-a0bd-44862985a3b4",
   "metadata": {},
   "outputs": [
    {
     "data": {
      "text/html": [
       "<div><pre title=\"Line 1: not executed\">   1      def middle(x, y, z):</pre>\n",
       "<pre title=\"Line 2: not executed\">   2          m = z</pre>\n",
       "<pre style=\"background-color:#cceeaa\"\n",
       "                title=\"Line 3:  16%\">   3  16%     if y &lt; z:</pre>\n",
       "<pre style=\"background-color:#cceeaa\"\n",
       "                title=\"Line 4:  16%\">   4  16%         if x &lt; y:</pre>\n",
       "<pre style=\"background-color:#cceeaa\"\n",
       "                title=\"Line 5:  16%\">   5  16%             m = y</pre>\n",
       "<pre style=\"background-color:#ffff99\"\n",
       "                title=\"Line 6:  50%\">   6  50%         elif x &lt; z:</pre>\n",
       "<pre style=\"background-color:#ffff99\"\n",
       "                title=\"Line 7:  50%\">   7  50%             m = y  # bug</pre>\n",
       "<pre title=\"Line 8: not executed\">   8          else:</pre>\n",
       "<pre style=\"background-color:#b3e6b3\"\n",
       "                title=\"Line 9:   0%\">   9   0%         if x &gt; y:</pre>\n",
       "<pre style=\"background-color:#b3e6b3\"\n",
       "                title=\"Line 10:   0%\">  10   0%             m = y</pre>\n",
       "<pre style=\"background-color:#b3e6b3\"\n",
       "                title=\"Line 11:   0%\">  11   0%         elif x &gt; z:</pre>\n",
       "<pre style=\"background-color:#b3e6b3\"\n",
       "                title=\"Line 12:   0%\">  12   0%             m = x</pre>\n",
       "<pre title=\"Line 13: not executed\">  13          return m</pre>\n",
       "<pre title=\"Line 14: not executed\">  14      &nbsp;</pre>\n",
       "</div>"
      ],
      "text/plain": [
       "<IPython.core.display.HTML object>"
      ]
     },
     "execution_count": 29,
     "metadata": {},
     "output_type": "execute_result"
    }
   ],
   "source": [
    "predicates='branch'\n",
    "metrics='IncreaseTrue'\n",
    "sfl()"
   ]
  },
  {
   "cell_type": "markdown",
   "id": "875b493b-79f2-4ec0-a74a-23dcd3a2d426",
   "metadata": {},
   "source": [
    "We can map these predicates to code locations and see what branch causes the fault."
   ]
  },
  {
   "cell_type": "markdown",
   "id": "6447144c-5fa8-4004-91c7-dd86ca4761b4",
   "metadata": {},
   "source": [
    "# Thank You"
   ]
  },
  {
   "cell_type": "markdown",
   "id": "c14eb751-f214-4447-9b17-7066e3e6aaf5",
   "metadata": {},
   "source": [
    "## GitHub"
   ]
  },
  {
   "cell_type": "markdown",
   "id": "501b70f5-3276-45e8-9e48-7331964004d7",
   "metadata": {},
   "source": [
    "https://github.com/uds-se/sflkit\n",
    "\n",
    "<img src=\"qrcode.png\" style=\"width:500px\">"
   ]
  }
 ],
 "metadata": {
  "kernelspec": {
   "display_name": "Python 3 (ipykernel)",
   "language": "python",
   "name": "python3"
  },
  "language_info": {
   "codemirror_mode": {
    "name": "ipython",
    "version": 3
   },
   "file_extension": ".py",
   "mimetype": "text/x-python",
   "name": "python",
   "nbconvert_exporter": "python",
   "pygments_lexer": "ipython3",
   "version": "3.10.6"
  }
 },
 "nbformat": 4,
 "nbformat_minor": 5
}
